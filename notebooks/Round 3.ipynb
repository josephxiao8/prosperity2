{
 "cells": [
  {
   "cell_type": "code",
   "execution_count": 1,
   "id": "573e5e70",
   "metadata": {},
   "outputs": [],
   "source": [
    "import numpy as np\n",
    "import pandas as pd\n",
    "import matplotlib.pyplot as plt"
   ]
  },
  {
   "cell_type": "markdown",
   "id": "fad538af",
   "metadata": {},
   "source": [
    "# Historical Data"
   ]
  },
  {
   "cell_type": "code",
   "execution_count": 2,
   "id": "00e1d7e7",
   "metadata": {},
   "outputs": [
    {
     "name": "stdout",
     "output_type": "stream",
     "text": [
      " Volume in drive C is Windows\n",
      " Volume Serial Number is 4C9C-5B8B\n",
      "\n",
      " Directory of C:\\Users\\joshu\\Documents\\Code\\prosperity2\\csv\\round-3-island-data-bottle\n",
      "\n",
      "2024-04-15  09:41 PM    <DIR>          .\n",
      "2024-04-15  09:41 PM    <DIR>          ..\n",
      "2024-04-15  09:41 PM         2,621,062 prices_round_3_day_0.csv\n",
      "2024-04-15  09:41 PM         2,620,447 prices_round_3_day_1.csv\n",
      "2024-04-15  09:41 PM         2,620,492 prices_round_3_day_2.csv\n",
      "2024-04-15  09:41 PM           152,390 trades_round_3_day_0_nn.csv\n",
      "2024-04-15  09:41 PM           146,572 trades_round_3_day_1_nn.csv\n",
      "2024-04-15  09:41 PM           150,193 trades_round_3_day_2_nn.csv\n",
      "               6 File(s)      8,311,156 bytes\n",
      "               2 Dir(s)  44,314,460,160 bytes free\n"
     ]
    }
   ],
   "source": [
    "!dir \"../csv/round-3-island-data-bottle\""
   ]
  },
  {
   "cell_type": "code",
   "execution_count": 3,
   "id": "39a6a299",
   "metadata": {},
   "outputs": [],
   "source": [
    "days = [0, 1, 2]\n",
    "pricesByDay = {}\n",
    "tradesByDay = {}\n",
    "\n",
    "for day in days:\n",
    "    pricesByDay[day] = pd.read_csv(f\"../csv/round-3-island-data-bottle/prices_round_3_day_{day}.csv\", sep=';')\n",
    "    tradesByDay[day] = pd.read_csv(f\"../csv/round-3-island-data-bottle/trades_round_3_day_{day}_nn.csv\", sep=';')"
   ]
  },
  {
   "cell_type": "code",
   "execution_count": 4,
   "id": "cd624c2d",
   "metadata": {},
   "outputs": [
    {
     "data": {
      "text/html": [
       "<div>\n",
       "<style scoped>\n",
       "    .dataframe tbody tr th:only-of-type {\n",
       "        vertical-align: middle;\n",
       "    }\n",
       "\n",
       "    .dataframe tbody tr th {\n",
       "        vertical-align: top;\n",
       "    }\n",
       "\n",
       "    .dataframe thead th {\n",
       "        text-align: right;\n",
       "    }\n",
       "</style>\n",
       "<table border=\"1\" class=\"dataframe\">\n",
       "  <thead>\n",
       "    <tr style=\"text-align: right;\">\n",
       "      <th></th>\n",
       "      <th>day</th>\n",
       "      <th>timestamp</th>\n",
       "      <th>product</th>\n",
       "      <th>bid_price_1</th>\n",
       "      <th>bid_volume_1</th>\n",
       "      <th>bid_price_2</th>\n",
       "      <th>bid_volume_2</th>\n",
       "      <th>bid_price_3</th>\n",
       "      <th>bid_volume_3</th>\n",
       "      <th>ask_price_1</th>\n",
       "      <th>ask_volume_1</th>\n",
       "      <th>ask_price_2</th>\n",
       "      <th>ask_volume_2</th>\n",
       "      <th>ask_price_3</th>\n",
       "      <th>ask_volume_3</th>\n",
       "      <th>mid_price</th>\n",
       "      <th>profit_and_loss</th>\n",
       "    </tr>\n",
       "  </thead>\n",
       "  <tbody>\n",
       "    <tr>\n",
       "      <th>0</th>\n",
       "      <td>0</td>\n",
       "      <td>0</td>\n",
       "      <td>CHOCOLATE</td>\n",
       "      <td>7999</td>\n",
       "      <td>111</td>\n",
       "      <td>NaN</td>\n",
       "      <td>NaN</td>\n",
       "      <td>NaN</td>\n",
       "      <td>NaN</td>\n",
       "      <td>8001</td>\n",
       "      <td>111</td>\n",
       "      <td>NaN</td>\n",
       "      <td>NaN</td>\n",
       "      <td>NaN</td>\n",
       "      <td>NaN</td>\n",
       "      <td>8000.0</td>\n",
       "      <td>0.0</td>\n",
       "    </tr>\n",
       "    <tr>\n",
       "      <th>1</th>\n",
       "      <td>0</td>\n",
       "      <td>0</td>\n",
       "      <td>STRAWBERRIES</td>\n",
       "      <td>3999</td>\n",
       "      <td>210</td>\n",
       "      <td>NaN</td>\n",
       "      <td>NaN</td>\n",
       "      <td>NaN</td>\n",
       "      <td>NaN</td>\n",
       "      <td>4001</td>\n",
       "      <td>210</td>\n",
       "      <td>NaN</td>\n",
       "      <td>NaN</td>\n",
       "      <td>NaN</td>\n",
       "      <td>NaN</td>\n",
       "      <td>4000.0</td>\n",
       "      <td>0.0</td>\n",
       "    </tr>\n",
       "    <tr>\n",
       "      <th>2</th>\n",
       "      <td>0</td>\n",
       "      <td>0</td>\n",
       "      <td>ROSES</td>\n",
       "      <td>14999</td>\n",
       "      <td>72</td>\n",
       "      <td>NaN</td>\n",
       "      <td>NaN</td>\n",
       "      <td>NaN</td>\n",
       "      <td>NaN</td>\n",
       "      <td>15001</td>\n",
       "      <td>72</td>\n",
       "      <td>NaN</td>\n",
       "      <td>NaN</td>\n",
       "      <td>NaN</td>\n",
       "      <td>NaN</td>\n",
       "      <td>15000.0</td>\n",
       "      <td>0.0</td>\n",
       "    </tr>\n",
       "    <tr>\n",
       "      <th>3</th>\n",
       "      <td>0</td>\n",
       "      <td>0</td>\n",
       "      <td>GIFT_BASKET</td>\n",
       "      <td>71348</td>\n",
       "      <td>19</td>\n",
       "      <td>71347.0</td>\n",
       "      <td>24.0</td>\n",
       "      <td>NaN</td>\n",
       "      <td>NaN</td>\n",
       "      <td>71362</td>\n",
       "      <td>19</td>\n",
       "      <td>71363.0</td>\n",
       "      <td>24.0</td>\n",
       "      <td>NaN</td>\n",
       "      <td>NaN</td>\n",
       "      <td>71355.0</td>\n",
       "      <td>0.0</td>\n",
       "    </tr>\n",
       "    <tr>\n",
       "      <th>4</th>\n",
       "      <td>0</td>\n",
       "      <td>100</td>\n",
       "      <td>GIFT_BASKET</td>\n",
       "      <td>71344</td>\n",
       "      <td>1</td>\n",
       "      <td>71343.0</td>\n",
       "      <td>12.0</td>\n",
       "      <td>71342.0</td>\n",
       "      <td>20.0</td>\n",
       "      <td>71355</td>\n",
       "      <td>1</td>\n",
       "      <td>71356.0</td>\n",
       "      <td>12.0</td>\n",
       "      <td>71357.0</td>\n",
       "      <td>20.0</td>\n",
       "      <td>71349.5</td>\n",
       "      <td>0.0</td>\n",
       "    </tr>\n",
       "  </tbody>\n",
       "</table>\n",
       "</div>"
      ],
      "text/plain": [
       "   day  timestamp       product  bid_price_1  bid_volume_1  bid_price_2  \\\n",
       "0    0          0     CHOCOLATE         7999           111          NaN   \n",
       "1    0          0  STRAWBERRIES         3999           210          NaN   \n",
       "2    0          0         ROSES        14999            72          NaN   \n",
       "3    0          0   GIFT_BASKET        71348            19      71347.0   \n",
       "4    0        100   GIFT_BASKET        71344             1      71343.0   \n",
       "\n",
       "   bid_volume_2  bid_price_3  bid_volume_3  ask_price_1  ask_volume_1  \\\n",
       "0           NaN          NaN           NaN         8001           111   \n",
       "1           NaN          NaN           NaN         4001           210   \n",
       "2           NaN          NaN           NaN        15001            72   \n",
       "3          24.0          NaN           NaN        71362            19   \n",
       "4          12.0      71342.0          20.0        71355             1   \n",
       "\n",
       "   ask_price_2  ask_volume_2  ask_price_3  ask_volume_3  mid_price  \\\n",
       "0          NaN           NaN          NaN           NaN     8000.0   \n",
       "1          NaN           NaN          NaN           NaN     4000.0   \n",
       "2          NaN           NaN          NaN           NaN    15000.0   \n",
       "3      71363.0          24.0          NaN           NaN    71355.0   \n",
       "4      71356.0          12.0      71357.0          20.0    71349.5   \n",
       "\n",
       "   profit_and_loss  \n",
       "0              0.0  \n",
       "1              0.0  \n",
       "2              0.0  \n",
       "3              0.0  \n",
       "4              0.0  "
      ]
     },
     "execution_count": 4,
     "metadata": {},
     "output_type": "execute_result"
    }
   ],
   "source": [
    "pricesByDay[0].head()"
   ]
  },
  {
   "cell_type": "code",
   "execution_count": 5,
   "id": "3e385510",
   "metadata": {},
   "outputs": [
    {
     "data": {
      "text/html": [
       "<div>\n",
       "<style scoped>\n",
       "    .dataframe tbody tr th:only-of-type {\n",
       "        vertical-align: middle;\n",
       "    }\n",
       "\n",
       "    .dataframe tbody tr th {\n",
       "        vertical-align: top;\n",
       "    }\n",
       "\n",
       "    .dataframe thead th {\n",
       "        text-align: right;\n",
       "    }\n",
       "</style>\n",
       "<table border=\"1\" class=\"dataframe\">\n",
       "  <thead>\n",
       "    <tr style=\"text-align: right;\">\n",
       "      <th></th>\n",
       "      <th>timestamp</th>\n",
       "      <th>buyer</th>\n",
       "      <th>seller</th>\n",
       "      <th>symbol</th>\n",
       "      <th>currency</th>\n",
       "      <th>price</th>\n",
       "      <th>quantity</th>\n",
       "    </tr>\n",
       "  </thead>\n",
       "  <tbody>\n",
       "    <tr>\n",
       "      <th>0</th>\n",
       "      <td>0</td>\n",
       "      <td>NaN</td>\n",
       "      <td>NaN</td>\n",
       "      <td>CHOCOLATE</td>\n",
       "      <td>SEASHELLS</td>\n",
       "      <td>8001.0</td>\n",
       "      <td>8</td>\n",
       "    </tr>\n",
       "    <tr>\n",
       "      <th>1</th>\n",
       "      <td>0</td>\n",
       "      <td>NaN</td>\n",
       "      <td>NaN</td>\n",
       "      <td>ROSES</td>\n",
       "      <td>SEASHELLS</td>\n",
       "      <td>15001.0</td>\n",
       "      <td>3</td>\n",
       "    </tr>\n",
       "    <tr>\n",
       "      <th>2</th>\n",
       "      <td>200</td>\n",
       "      <td>NaN</td>\n",
       "      <td>NaN</td>\n",
       "      <td>ROSES</td>\n",
       "      <td>SEASHELLS</td>\n",
       "      <td>15000.0</td>\n",
       "      <td>3</td>\n",
       "    </tr>\n",
       "    <tr>\n",
       "      <th>3</th>\n",
       "      <td>500</td>\n",
       "      <td>NaN</td>\n",
       "      <td>NaN</td>\n",
       "      <td>STRAWBERRIES</td>\n",
       "      <td>SEASHELLS</td>\n",
       "      <td>3999.0</td>\n",
       "      <td>10</td>\n",
       "    </tr>\n",
       "    <tr>\n",
       "      <th>4</th>\n",
       "      <td>1000</td>\n",
       "      <td>NaN</td>\n",
       "      <td>NaN</td>\n",
       "      <td>GIFT_BASKET</td>\n",
       "      <td>SEASHELLS</td>\n",
       "      <td>71360.0</td>\n",
       "      <td>2</td>\n",
       "    </tr>\n",
       "  </tbody>\n",
       "</table>\n",
       "</div>"
      ],
      "text/plain": [
       "   timestamp  buyer  seller        symbol   currency    price  quantity\n",
       "0          0    NaN     NaN     CHOCOLATE  SEASHELLS   8001.0         8\n",
       "1          0    NaN     NaN         ROSES  SEASHELLS  15001.0         3\n",
       "2        200    NaN     NaN         ROSES  SEASHELLS  15000.0         3\n",
       "3        500    NaN     NaN  STRAWBERRIES  SEASHELLS   3999.0        10\n",
       "4       1000    NaN     NaN   GIFT_BASKET  SEASHELLS  71360.0         2"
      ]
     },
     "execution_count": 5,
     "metadata": {},
     "output_type": "execute_result"
    }
   ],
   "source": [
    "tradesByDay[0].head()"
   ]
  },
  {
   "cell_type": "markdown",
   "id": "868097f1",
   "metadata": {},
   "source": [
    "## Prices"
   ]
  },
  {
   "cell_type": "code",
   "execution_count": 6,
   "id": "addc5fc3",
   "metadata": {},
   "outputs": [],
   "source": [
    "def plot_prices(product):\n",
    "    fig, ax = plt.subplots(nrows=3, figsize=(15, 25))\n",
    "\n",
    "    for i in range(3):\n",
    "        day = days[i]\n",
    "        ax[i].set_title(f\"Bid prices for {product} on day {day}\")\n",
    "        dfPrices = pricesByDay[day][lambda df: df['product'] == product]\n",
    "        for colName in ['bid_price_1', 'bid_price_2', 'bid_price_3']:\n",
    "            ax[i].scatter(dfPrices['timestamp'], dfPrices[colName], c='g')\n",
    "        for colName in ['ask_price_1', 'ask_price_2', 'ask_price_3']:\n",
    "            ax[i].scatter(dfPrices['timestamp'], dfPrices[colName], c='r')"
   ]
  },
  {
   "cell_type": "code",
   "execution_count": 7,
   "id": "4b9953b1",
   "metadata": {},
   "outputs": [
    {
     "data": {
      "text/plain": [
       "count    40000.000000\n",
       "mean         0.000021\n",
       "std          0.539411\n",
       "min         -5.000000\n",
       "25%          0.000000\n",
       "50%          0.000000\n",
       "75%          0.000000\n",
       "max          5.300000\n",
       "dtype: float64"
      ]
     },
     "execution_count": 7,
     "metadata": {},
     "output_type": "execute_result"
    }
   ],
   "source": [
    "products = ['CHOCOLATE', 'STRAWBERRIES', 'ROSES', 'GIFT_BASKET']\n",
    "price_columns = ['bid_price_1', 'bid_price_2', 'bid_price_3', 'ask_price_1', 'ask_price_2', 'ask_price_3']\n",
    "meanPricesByDay = {}\n",
    "\n",
    "for day in days:\n",
    "    meanPricesByDay[day] = pricesByDay[day].copy()\n",
    "    priceCols = pricesByDay[day][price_columns]\n",
    "    meanPricesByDay[day]['mean_price'] = priceCols.sum(axis=1) \\\n",
    "                                        / priceCols.count(numeric_only=True, axis=1)\n",
    "\n",
    "meanPricesByDay[0].head()\n",
    "# How far the mean_price deviates from mid price\n",
    "(meanPricesByDay[0]['mean_price'] - meanPricesByDay[0]['mid_price']).describe()"
   ]
  },
  {
   "cell_type": "code",
   "execution_count": 8,
   "id": "f8b50f02",
   "metadata": {},
   "outputs": [],
   "source": [
    "P = {\n",
    "    'CHOCOLATE': 4,\n",
    "    'STRAWBERRIES': 4,\n",
    "    'ROSES': 4,\n",
    "    'GIFT_BASKET': 4\n",
    "}\n",
    "\n",
    "response_name = 'mean_price' # try mid_price\n",
    "\n",
    "def getXy(product):\n",
    "    X, y = [], []\n",
    "    for day in days:\n",
    "        df_product = meanPricesByDay[day][lambda df: df['product'] == product]\n",
    "        for i in range(P[product], df_product.shape[0]):\n",
    "            x = df_product.iloc[i-P[product]:i][response_name].values\n",
    "            X.append(x)\n",
    "            y.append(df_product.iloc[i][response_name])\n",
    "           \n",
    "    X = np.array(X)\n",
    "    y = np.array(y)\n",
    "    print(f\"{X.shape[0]} training observations\")\n",
    "    return X, y"
   ]
  },
  {
   "cell_type": "code",
   "execution_count": 9,
   "id": "4bd85191",
   "metadata": {},
   "outputs": [],
   "source": [
    "from sklearn.linear_model import LinearRegression"
   ]
  },
  {
   "cell_type": "markdown",
   "id": "a3628515",
   "metadata": {},
   "source": [
    "## Regress Chocolate"
   ]
  },
  {
   "cell_type": "code",
   "execution_count": 10,
   "id": "6c8076ae",
   "metadata": {},
   "outputs": [
    {
     "name": "stdout",
     "output_type": "stream",
     "text": [
      "29988 training observations\n"
     ]
    },
    {
     "data": {
      "text/plain": [
       "(0.14240089710074244,\n",
       " array([-0.01108489,  0.00786715,  0.04070572,  0.96249293]))"
      ]
     },
     "execution_count": 10,
     "metadata": {},
     "output_type": "execute_result"
    }
   ],
   "source": [
    "X_chocolate, y_chocolate = getXy('CHOCOLATE')\n",
    "lm_chocolate = LinearRegression().fit(X_chocolate, y_chocolate)\n",
    "lm_chocolate.intercept_, lm_chocolate.coef_"
   ]
  },
  {
   "cell_type": "markdown",
   "id": "34e87e1c",
   "metadata": {},
   "source": [
    "## Regress Strawberries"
   ]
  },
  {
   "cell_type": "code",
   "execution_count": 11,
   "id": "a3d66907",
   "metadata": {},
   "outputs": [
    {
     "name": "stdout",
     "output_type": "stream",
     "text": [
      "29988 training observations\n"
     ]
    },
    {
     "data": {
      "text/plain": [
       "(0.37947875425743405,\n",
       " array([-0.00548191,  0.05122488,  0.1366758 ,  0.81748684]))"
      ]
     },
     "execution_count": 11,
     "metadata": {},
     "output_type": "execute_result"
    }
   ],
   "source": [
    "X_strawberries, y_strawberries = getXy('STRAWBERRIES')\n",
    "lm_strawberries = LinearRegression().fit(X_strawberries, y_strawberries)\n",
    "lm_strawberries.intercept_, lm_strawberries.coef_"
   ]
  },
  {
   "cell_type": "markdown",
   "id": "dde64b1b",
   "metadata": {},
   "source": [
    "## Regress Roses"
   ]
  },
  {
   "cell_type": "code",
   "execution_count": 12,
   "id": "01f30817",
   "metadata": {},
   "outputs": [
    {
     "name": "stdout",
     "output_type": "stream",
     "text": [
      "29988 training observations\n"
     ]
    },
    {
     "data": {
      "text/plain": [
       "(4.238897536935838,\n",
       " array([-0.00885487,  0.00141759,  0.01359939,  0.99354437]))"
      ]
     },
     "execution_count": 12,
     "metadata": {},
     "output_type": "execute_result"
    }
   ],
   "source": [
    "X_roses, y_roses = getXy('ROSES')\n",
    "lm_roses = LinearRegression().fit(X_roses, y_roses)\n",
    "lm_roses.intercept_, lm_roses.coef_"
   ]
  },
  {
   "cell_type": "markdown",
   "id": "39af6a20",
   "metadata": {},
   "source": [
    "## Regress Gift Basket"
   ]
  },
  {
   "cell_type": "code",
   "execution_count": 13,
   "id": "ecde3dc2",
   "metadata": {},
   "outputs": [
    {
     "name": "stdout",
     "output_type": "stream",
     "text": [
      "29988 training observations\n"
     ]
    },
    {
     "data": {
      "text/plain": [
       "(3.180094202849432,\n",
       " array([-5.15603870e-03, -9.81008814e-04, -1.12541938e-03,  1.00721665e+00]))"
      ]
     },
     "execution_count": 13,
     "metadata": {},
     "output_type": "execute_result"
    }
   ],
   "source": [
    "X_gift, y_gift = getXy('GIFT_BASKET')\n",
    "lm_gift = LinearRegression().fit(X_gift, y_gift)\n",
    "lm_gift.intercept_, lm_gift.coef_"
   ]
  },
  {
   "cell_type": "markdown",
   "id": "6dc7d231",
   "metadata": {},
   "source": [
    "## Trades"
   ]
  },
  {
   "cell_type": "code",
   "execution_count": 14,
   "id": "d1ec3e8d",
   "metadata": {},
   "outputs": [],
   "source": [
    "# Do something with the trades data sets"
   ]
  }
 ],
 "metadata": {
  "kernelspec": {
   "display_name": "Python 3 (ipykernel)",
   "language": "python",
   "name": "python3"
  },
  "language_info": {
   "codemirror_mode": {
    "name": "ipython",
    "version": 3
   },
   "file_extension": ".py",
   "mimetype": "text/x-python",
   "name": "python",
   "nbconvert_exporter": "python",
   "pygments_lexer": "ipython3",
   "version": "3.11.4"
  }
 },
 "nbformat": 4,
 "nbformat_minor": 5
}
