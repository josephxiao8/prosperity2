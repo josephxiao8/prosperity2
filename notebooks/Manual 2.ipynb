{
 "cells": [
  {
   "cell_type": "code",
   "execution_count": 1,
   "id": "8e498a41",
   "metadata": {},
   "outputs": [
    {
     "name": "stdout",
     "output_type": "stream",
     "text": [
      "[2000, 2000, 2002.1999999999998, 2111.616, 2111.616, 2113.9387776]\n",
      "shells\n",
      "pizza slice\n",
      "shells\n",
      "wasabi root\n",
      "pizza slice\n",
      "shells\n"
     ]
    }
   ],
   "source": [
    "convert = [\n",
    "    [1, 0.48, 1.52, 0.71],\n",
    "    [2.05, 1, 3.26, 1.56],\n",
    "    [0.64, 0.3, 1, 0.46],\n",
    "    [1.41, 0.61, 2.08, 1]\n",
    "]\n",
    "\n",
    "name = ['pizza slice', 'wasabi root', 'snowball', 'shells']\n",
    "\n",
    "dp = [[0 for j in range(6)] for i in range(4)]\n",
    "dp2 = [[-1 for j in range(6)] for i in range(4)]\n",
    "dp[3][0] = 2_000\n",
    "\n",
    "for trade in range(1, 6):\n",
    "    for i in range(4):\n",
    "        for j in range(4):\n",
    "            if dp[i][trade] < dp[j][trade-1] * convert[j][i]:\n",
    "                dp[i][trade] = dp[j][trade-1] * convert[j][i]\n",
    "                dp2[i][trade] = j\n",
    "\n",
    "\n",
    "print(dp[3][:]) # use 5 trades because that gives max profit\n",
    "it = 3\n",
    "\n",
    "# print items in reverse\n",
    "print(name[it])\n",
    "for trade in range(5, 0, -1):\n",
    "    it = dp2[it][trade];\n",
    "    print(name[it])"
   ]
  }
 ],
 "metadata": {
  "kernelspec": {
   "display_name": "Python 3 (ipykernel)",
   "language": "python",
   "name": "python3"
  },
  "language_info": {
   "codemirror_mode": {
    "name": "ipython",
    "version": 3
   },
   "file_extension": ".py",
   "mimetype": "text/x-python",
   "name": "python",
   "nbconvert_exporter": "python",
   "pygments_lexer": "ipython3",
   "version": "3.11.4"
  }
 },
 "nbformat": 4,
 "nbformat_minor": 5
}
