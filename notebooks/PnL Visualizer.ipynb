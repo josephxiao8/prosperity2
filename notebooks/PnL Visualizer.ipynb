{
 "cells": [
  {
   "cell_type": "code",
   "execution_count": 1,
   "id": "a4ad2d3e",
   "metadata": {},
   "outputs": [],
   "source": [
    "import pandas as pd\n",
    "import matplotlib.pyplot as plt"
   ]
  },
  {
   "cell_type": "code",
   "execution_count": null,
   "id": "7efc3b7b",
   "metadata": {},
   "outputs": [],
   "source": [
    "df = pd.read_csv(\"~/Downloads/deac88e8-342b-4e71-9c9d-b18c1059d738.csv\", sep=';')\n",
    "\n",
    "mask = (df['product'] == \"ORCHIDS\")\n",
    "df_orchids = df[mask]\n",
    "fig, ax = plt.subplots(figsize=(15, 7))\n",
    "ax.plot(df_orchids.timestamp, df_orchids.profit_and_loss)\n",
    "df_orchids.tail()"
   ]
  }
 ],
 "metadata": {
  "kernelspec": {
   "display_name": "Python 3 (ipykernel)",
   "language": "python",
   "name": "python3"
  },
  "language_info": {
   "codemirror_mode": {
    "name": "ipython",
    "version": 3
   },
   "file_extension": ".py",
   "mimetype": "text/x-python",
   "name": "python",
   "nbconvert_exporter": "python",
   "pygments_lexer": "ipython3",
   "version": "3.11.4"
  }
 },
 "nbformat": 4,
 "nbformat_minor": 5
}
