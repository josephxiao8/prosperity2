{
 "cells": [
  {
   "cell_type": "code",
   "execution_count": 1,
   "id": "cd9f28ba",
   "metadata": {},
   "outputs": [],
   "source": [
    "import numpy as np"
   ]
  },
  {
   "cell_type": "code",
   "execution_count": 2,
   "id": "58b222e8",
   "metadata": {},
   "outputs": [
    {
     "data": {
      "text/plain": [
       "(1001, 1001)"
      ]
     },
     "execution_count": 2,
     "metadata": {},
     "output_type": "execute_result"
    }
   ],
   "source": [
    "A = np.zeros(shape=(1001, 1001))\n",
    "A.shape"
   ]
  },
  {
   "cell_type": "code",
   "execution_count": 3,
   "id": "5d045e1f",
   "metadata": {},
   "outputs": [
    {
     "data": {
      "text/plain": [
       "array([[0.    , 0.0099, 0.0392, ..., 1.9208, 0.9801, 0.    ],\n",
       "       [0.    , 0.0198, 0.0492, ..., 1.9404, 0.9998, 0.0198],\n",
       "       [0.    , 0.    , 0.0784, ..., 1.9984, 1.0581, 0.0784],\n",
       "       ...,\n",
       "       [0.    , 0.    , 0.    , ..., 3.8416, 3.8613, 3.8416],\n",
       "       [0.    , 0.    , 0.    , ..., 0.    , 1.9602, 1.9602],\n",
       "       [0.    , 0.    , 0.    , ..., 0.    , 0.    , 0.    ]])"
      ]
     },
     "execution_count": 3,
     "metadata": {},
     "output_type": "execute_result"
    }
   ],
   "source": [
    "for a in range(900, 1001, 1):\n",
    "    for b in range(a, 1001, 1):\n",
    "        A[a][b] += (1_000 - a) * (a - 900) * (a - 900) / 5_000\n",
    "        A[a][b] += (1_000 - b) * (b - a) * (a + b - 1_800) / 10_000\n",
    "        \n",
    "A[900:,900:]"
   ]
  },
  {
   "cell_type": "code",
   "execution_count": 4,
   "id": "d3ec8bf6",
   "metadata": {},
   "outputs": [
    {
     "data": {
      "text/plain": [
       "(961, 982)"
      ]
     },
     "execution_count": 4,
     "metadata": {},
     "output_type": "execute_result"
    }
   ],
   "source": [
    "np.unravel_index(A.argmax(), A.shape)"
   ]
  },
  {
   "cell_type": "code",
   "execution_count": 8,
   "id": "675aba47",
   "metadata": {},
   "outputs": [
    {
     "data": {
      "text/plain": [
       "array([[34.3296, 34.3319, 34.3056, 34.2501, 34.1648],\n",
       "       [34.3822, 34.3962, 34.3816, 34.3378, 34.2642],\n",
       "       [34.4   , 34.4259, 34.4232, 34.3913, 34.3296],\n",
       "       [34.3818, 34.4198, 34.4292, 34.4094, 34.3598],\n",
       "       [34.3264, 34.3767, 34.3984, 34.3909, 34.3536]])"
      ]
     },
     "execution_count": 8,
     "metadata": {},
     "output_type": "execute_result"
    }
   ],
   "source": [
    "A[958:963, 980:985]"
   ]
  },
  {
   "cell_type": "code",
   "execution_count": null,
   "id": "e08af904",
   "metadata": {},
   "outputs": [],
   "source": []
  }
 ],
 "metadata": {
  "kernelspec": {
   "display_name": "Python 3 (ipykernel)",
   "language": "python",
   "name": "python3"
  },
  "language_info": {
   "codemirror_mode": {
    "name": "ipython",
    "version": 3
   },
   "file_extension": ".py",
   "mimetype": "text/x-python",
   "name": "python",
   "nbconvert_exporter": "python",
   "pygments_lexer": "ipython3",
   "version": "3.11.4"
  }
 },
 "nbformat": 4,
 "nbformat_minor": 5
}
