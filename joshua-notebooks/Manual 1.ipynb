{
 "cells": [
  {
   "cell_type": "code",
   "execution_count": 1,
   "id": "cd9f28ba",
   "metadata": {},
   "outputs": [],
   "source": [
    "import numpy as np"
   ]
  },
  {
   "cell_type": "code",
   "execution_count": 2,
   "id": "58b222e8",
   "metadata": {},
   "outputs": [
    {
     "data": {
      "text/plain": [
       "(1001, 1001)"
      ]
     },
     "execution_count": 2,
     "metadata": {},
     "output_type": "execute_result"
    }
   ],
   "source": [
    "A = np.zeros(shape=(1001, 1001))\n",
    "A.shape"
   ]
  },
  {
   "cell_type": "code",
   "execution_count": 3,
   "id": "5d045e1f",
   "metadata": {},
   "outputs": [
    {
     "data": {
      "text/plain": [
       "array([[0.    , 0.0099, 0.0392, ..., 1.9208, 0.9801, 0.    ],\n",
       "       [0.    , 0.0099, 0.0393, ..., 1.9305, 0.9899, 0.0099],\n",
       "       [0.    , 0.    , 0.0392, ..., 1.9592, 1.0189, 0.0392],\n",
       "       ...,\n",
       "       [0.    , 0.    , 0.    , ..., 1.9208, 1.9405, 1.9208],\n",
       "       [0.    , 0.    , 0.    , ..., 0.    , 0.9801, 0.9801],\n",
       "       [0.    , 0.    , 0.    , ..., 0.    , 0.    , 0.    ]])"
      ]
     },
     "execution_count": 3,
     "metadata": {},
     "output_type": "execute_result"
    }
   ],
   "source": [
    "for a in range(900, 1001, 1):\n",
    "    for b in range(a, 1001, 1):\n",
    "        A[a][b] += (1_000 - a) * (a - 900) * (a - 900) / 10_000\n",
    "        A[a][b] += (1_000 - b) * (b - a) * (a + b - 1_800) / 10_000\n",
    "        \n",
    "A[900:,900:]"
   ]
  },
  {
   "cell_type": "code",
   "execution_count": 4,
   "id": "d3ec8bf6",
   "metadata": {},
   "outputs": [
    {
     "data": {
      "text/plain": [
       "(952, 978)"
      ]
     },
     "execution_count": 4,
     "metadata": {},
     "output_type": "execute_result"
    }
   ],
   "source": [
    "np.unravel_index(A.argmax(), A.shape)"
   ]
  },
  {
   "cell_type": "code",
   "execution_count": 5,
   "id": "675aba47",
   "metadata": {},
   "outputs": [
    {
     "data": {
      "text/plain": [
       "array([[20.2008, 20.2031, 20.1768, 20.1213, 20.036 ],\n",
       "       [20.1101, 20.1241, 20.1095, 20.0657, 19.9921],\n",
       "       [20.    , 20.0259, 20.0232, 19.9913, 19.9296],\n",
       "       [19.8699, 19.9079, 19.9173, 19.8975, 19.8479],\n",
       "       [19.7192, 19.7695, 19.7912, 19.7837, 19.7464]])"
      ]
     },
     "execution_count": 5,
     "metadata": {},
     "output_type": "execute_result"
    }
   ],
   "source": [
    "A[958:963, 980:985]"
   ]
  }
 ],
 "metadata": {
  "kernelspec": {
   "display_name": "Python 3 (ipykernel)",
   "language": "python",
   "name": "python3"
  },
  "language_info": {
   "codemirror_mode": {
    "name": "ipython",
    "version": 3
   },
   "file_extension": ".py",
   "mimetype": "text/x-python",
   "name": "python",
   "nbconvert_exporter": "python",
   "pygments_lexer": "ipython3",
   "version": "3.11.4"
  }
 },
 "nbformat": 4,
 "nbformat_minor": 5
}
